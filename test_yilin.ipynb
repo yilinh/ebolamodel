{
 "cells": [
  {
   "cell_type": "code",
   "execution_count": 14,
   "metadata": {},
   "outputs": [],
   "source": [
    "from model import ebola_model\n",
    "\n",
    "from scipy.integrate import odeint\n",
    "import numpy as np\n",
    "import random\n",
    "import pandas as pd\n",
    "import datetime"
   ]
  },
  {
   "cell_type": "code",
   "execution_count": 2,
   "metadata": {},
   "outputs": [
    {
     "data": {
      "text/plain": [
       "<function model.ebola_model(I4=3, I14=25, I15=32, beta_i=0.32, beta_d=0.73, travel_rate=0.05, exploration_ratio=0.5, store_data=False)>"
      ]
     },
     "execution_count": 2,
     "metadata": {},
     "output_type": "execute_result"
    }
   ],
   "source": [
    "test_model = ebola_model()"
   ]
  },
  {
   "cell_type": "code",
   "execution_count": 4,
   "metadata": {},
   "outputs": [
    {
     "data": {
      "text/plain": [
       "{'Effectiveness': -0.7454740367300497,\n",
       " 'Time until Containment': 25,\n",
       " 'Difference in Met Demand': 0.2514876654531164,\n",
       " 'Difference in Arrival Time': 511.9375,\n",
       " 'Cost per Death Prevented': 3590.68074412182,\n",
       " 'Uncertainty over Time': [1.0,\n",
       "  0.9166666666666666,\n",
       "  0.8541666666666666,\n",
       "  0.7916666666666666,\n",
       "  0.7291666666666666,\n",
       "  0.7291666666666666,\n",
       "  0.665625,\n",
       "  0.6562499999999999,\n",
       "  0.6429908270454244,\n",
       "  0.6289384663171326,\n",
       "  0.6121516917793075,\n",
       "  0.5912230566597235,\n",
       "  0.582308294401463,\n",
       "  0.5746506564913872,\n",
       "  0.5638911253646525,\n",
       "  0.543981213651165,\n",
       "  0.5252539716866224,\n",
       "  0.5065022288994231,\n",
       "  0.49227414607958053,\n",
       "  0.4724726031857132,\n",
       "  0.4520640178579903,\n",
       "  0.43615415598292434,\n",
       "  0.4259924740543974,\n",
       "  0.41461828565036934,\n",
       "  0.4014544038856073,\n",
       "  0.38825730287605187],\n",
       " 'Decision Types': [1,\n",
       "  1,\n",
       "  1,\n",
       "  1,\n",
       "  0,\n",
       "  1,\n",
       "  0,\n",
       "  0,\n",
       "  1,\n",
       "  0,\n",
       "  0,\n",
       "  0,\n",
       "  0,\n",
       "  1,\n",
       "  1,\n",
       "  0,\n",
       "  0,\n",
       "  0,\n",
       "  1,\n",
       "  1,\n",
       "  0,\n",
       "  1,\n",
       "  0,\n",
       "  1,\n",
       "  0,\n",
       "  1],\n",
       " 'Chosen Regions': ['211312',\n",
       "  '201416',\n",
       "  '172410',\n",
       "  '181119',\n",
       "  '15',\n",
       "  '221523',\n",
       "  '14',\n",
       "  '15',\n",
       "  '18',\n",
       "  '14',\n",
       "  '15',\n",
       "  '11',\n",
       "  '10',\n",
       "  '10',\n",
       "  '11',\n",
       "  '13',\n",
       "  '4',\n",
       "  '9',\n",
       "  '13',\n",
       "  '13',\n",
       "  '5',\n",
       "  '22',\n",
       "  '7',\n",
       "  '12',\n",
       "  '6',\n",
       "  '16']}"
      ]
     },
     "execution_count": 4,
     "metadata": {},
     "output_type": "execute_result"
    }
   ],
   "source": [
    "test_model"
   ]
  },
  {
   "cell_type": "code",
   "execution_count": 10,
   "metadata": {},
   "outputs": [
    {
     "data": {
      "text/plain": [
       "26"
      ]
     },
     "execution_count": 10,
     "metadata": {},
     "output_type": "execute_result"
    }
   ],
   "source": [
    "len(test_model['Decision Types'])"
   ]
  },
  {
   "cell_type": "code",
   "execution_count": 11,
   "metadata": {},
   "outputs": [],
   "source": [
    "regions_list = [i for i in range(16)] "
   ]
  },
  {
   "cell_type": "code",
   "execution_count": 19,
   "metadata": {},
   "outputs": [
    {
     "data": {
      "text/plain": [
       "array([0., 1.])"
      ]
     },
     "execution_count": 19,
     "metadata": {},
     "output_type": "execute_result"
    }
   ],
   "source": [
    "np.linspace(0,1,2)"
   ]
  },
  {
   "cell_type": "code",
   "execution_count": null,
   "metadata": {},
   "outputs": [],
   "source": []
  }
 ],
 "metadata": {
  "kernelspec": {
   "display_name": "Python 3.7.1",
   "language": "python",
   "name": "python3"
  },
  "language_info": {
   "codemirror_mode": {
    "name": "ipython",
    "version": 3
   },
   "file_extension": ".py",
   "mimetype": "text/x-python",
   "name": "python",
   "nbconvert_exporter": "python",
   "pygments_lexer": "ipython3",
   "version": "3.7.1"
  }
 },
 "nbformat": 4,
 "nbformat_minor": 2
}
